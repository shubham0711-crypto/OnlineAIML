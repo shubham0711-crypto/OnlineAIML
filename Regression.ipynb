{
 "cells": [
  {
   "cell_type": "code",
   "execution_count": 112,
   "id": "4567f6c0-5091-4e34-a0d9-d45437d32b86",
   "metadata": {},
   "outputs": [],
   "source": [
    "import pandas as pd\n",
    "import matplotlib.pyplot as plt\n",
    "from sklearn.preprocessing import LabelEncoder\n",
    "from sklearn.linear_model import LinearRegression\n",
    "from sklearn.metrics import mean_squared_error, mean_absolute_error, accuracy_score\n",
    "import numpy as np\n",
    "from sklearn import metrics\n",
    "from sklearn.ensemble import RandomForestRegressor\n",
    "from sklearn.ensemble import RandomForestClassifier\n",
    "from sklearn.metrics import accuracy_score"
   ]
  },
  {
   "cell_type": "code",
   "execution_count": 113,
   "id": "ee9ea8df-7880-4b32-acd2-48c43158a906",
   "metadata": {},
   "outputs": [],
   "source": [
    "df=pd.read_csv('finaldata.csv')"
   ]
  },
  {
   "cell_type": "code",
   "execution_count": 114,
   "id": "922eb40c-ad6c-4777-b953-8ee3861a14c0",
   "metadata": {},
   "outputs": [
    {
     "data": {
      "text/html": [
       "<div>\n",
       "<style scoped>\n",
       "    .dataframe tbody tr th:only-of-type {\n",
       "        vertical-align: middle;\n",
       "    }\n",
       "\n",
       "    .dataframe tbody tr th {\n",
       "        vertical-align: top;\n",
       "    }\n",
       "\n",
       "    .dataframe thead th {\n",
       "        text-align: right;\n",
       "    }\n",
       "</style>\n",
       "<table border=\"1\" class=\"dataframe\">\n",
       "  <thead>\n",
       "    <tr style=\"text-align: right;\">\n",
       "      <th></th>\n",
       "      <th>AdminName</th>\n",
       "      <th>GeoRegion</th>\n",
       "      <th>GeoSubreg</th>\n",
       "      <th>IncomeGrp</th>\n",
       "      <th>LendCat</th>\n",
       "      <th>VarDesc</th>\n",
       "      <th>UrbanPop</th>\n",
       "      <th>RuralPop</th>\n",
       "      <th>TotalPop</th>\n",
       "      <th>UrbanLA</th>\n",
       "      <th>RuralLA</th>\n",
       "      <th>TotalLA</th>\n",
       "    </tr>\n",
       "  </thead>\n",
       "  <tbody>\n",
       "    <tr>\n",
       "      <th>0</th>\n",
       "      <td>Syrian Arab Republic</td>\n",
       "      <td>Asia</td>\n",
       "      <td>Western Asia</td>\n",
       "      <td>Low income</td>\n",
       "      <td>IDA</td>\n",
       "      <td>Elevation under 5 meters</td>\n",
       "      <td>30620.145664</td>\n",
       "      <td>1.084850e+04</td>\n",
       "      <td>4.146865e+04</td>\n",
       "      <td>15.427241</td>\n",
       "      <td>22.357709</td>\n",
       "      <td>37.784950</td>\n",
       "    </tr>\n",
       "    <tr>\n",
       "      <th>1</th>\n",
       "      <td>Togo</td>\n",
       "      <td>Africa</td>\n",
       "      <td>Western Africa</td>\n",
       "      <td>Low income</td>\n",
       "      <td>IDA</td>\n",
       "      <td>Elevation under 5 meters</td>\n",
       "      <td>55219.074696</td>\n",
       "      <td>1.553526e+05</td>\n",
       "      <td>2.105717e+05</td>\n",
       "      <td>27.818326</td>\n",
       "      <td>205.311436</td>\n",
       "      <td>233.129761</td>\n",
       "    </tr>\n",
       "    <tr>\n",
       "      <th>2</th>\n",
       "      <td>Mozambique</td>\n",
       "      <td>Africa</td>\n",
       "      <td>Eastern Africa</td>\n",
       "      <td>Low income</td>\n",
       "      <td>IDA</td>\n",
       "      <td>Elevation between 50 and 100 meters</td>\n",
       "      <td>279377.806046</td>\n",
       "      <td>2.166789e+06</td>\n",
       "      <td>2.446166e+06</td>\n",
       "      <td>386.302173</td>\n",
       "      <td>93757.456316</td>\n",
       "      <td>94143.758488</td>\n",
       "    </tr>\n",
       "    <tr>\n",
       "      <th>3</th>\n",
       "      <td>Burkina Faso</td>\n",
       "      <td>Africa</td>\n",
       "      <td>Western Africa</td>\n",
       "      <td>Low income</td>\n",
       "      <td>IDA</td>\n",
       "      <td>Elevation between 400 and 800 meters</td>\n",
       "      <td>637.095442</td>\n",
       "      <td>8.170922e+03</td>\n",
       "      <td>8.808017e+03</td>\n",
       "      <td>134.234603</td>\n",
       "      <td>9032.678212</td>\n",
       "      <td>9166.912815</td>\n",
       "    </tr>\n",
       "    <tr>\n",
       "      <th>4</th>\n",
       "      <td>South Sudan</td>\n",
       "      <td>Africa</td>\n",
       "      <td>Eastern Africa</td>\n",
       "      <td>Low income</td>\n",
       "      <td>IDA</td>\n",
       "      <td>Elevation between 800 and 1500 meters</td>\n",
       "      <td>277.162453</td>\n",
       "      <td>7.758986e+04</td>\n",
       "      <td>7.786702e+04</td>\n",
       "      <td>65.242679</td>\n",
       "      <td>33046.173375</td>\n",
       "      <td>33111.416054</td>\n",
       "    </tr>\n",
       "  </tbody>\n",
       "</table>\n",
       "</div>"
      ],
      "text/plain": [
       "              AdminName GeoRegion       GeoSubreg   IncomeGrp LendCat  \\\n",
       "0  Syrian Arab Republic      Asia    Western Asia  Low income     IDA   \n",
       "1                  Togo    Africa  Western Africa  Low income     IDA   \n",
       "2            Mozambique    Africa  Eastern Africa  Low income     IDA   \n",
       "3          Burkina Faso    Africa  Western Africa  Low income     IDA   \n",
       "4           South Sudan    Africa  Eastern Africa  Low income     IDA   \n",
       "\n",
       "                                 VarDesc       UrbanPop      RuralPop  \\\n",
       "0               Elevation under 5 meters   30620.145664  1.084850e+04   \n",
       "1               Elevation under 5 meters   55219.074696  1.553526e+05   \n",
       "2    Elevation between 50 and 100 meters  279377.806046  2.166789e+06   \n",
       "3   Elevation between 400 and 800 meters     637.095442  8.170922e+03   \n",
       "4  Elevation between 800 and 1500 meters     277.162453  7.758986e+04   \n",
       "\n",
       "       TotalPop     UrbanLA       RuralLA       TotalLA  \n",
       "0  4.146865e+04   15.427241     22.357709     37.784950  \n",
       "1  2.105717e+05   27.818326    205.311436    233.129761  \n",
       "2  2.446166e+06  386.302173  93757.456316  94143.758488  \n",
       "3  8.808017e+03  134.234603   9032.678212   9166.912815  \n",
       "4  7.786702e+04   65.242679  33046.173375  33111.416054  "
      ]
     },
     "execution_count": 114,
     "metadata": {},
     "output_type": "execute_result"
    }
   ],
   "source": [
    "df.head()"
   ]
  },
  {
   "cell_type": "code",
   "execution_count": 115,
   "id": "57ac96ad-7823-47e3-8809-df10ac64d9bd",
   "metadata": {},
   "outputs": [],
   "source": [
    "df1=df[['GeoSubreg','IncomeGrp','VarDesc','UrbanPop','RuralPop','RuralLA','UrbanLA','TotalLA','TotalPop']]"
   ]
  },
  {
   "cell_type": "code",
   "execution_count": 116,
   "id": "3268805c-e0f3-40b9-8253-b6a34a0c27b9",
   "metadata": {},
   "outputs": [],
   "source": [
    "df1=df1[df1['UrbanPop']<=1.000000e+06]"
   ]
  },
  {
   "cell_type": "code",
   "execution_count": 117,
   "id": "6fa379c1-efb9-418e-b28c-bda6fb79967b",
   "metadata": {},
   "outputs": [],
   "source": [
    "df1=df1[df1['UrbanPop']>=1.000000e+04]"
   ]
  },
  {
   "cell_type": "code",
   "execution_count": 118,
   "id": "33ed2a2d-bbc5-4d7f-96ea-c038626e4ee8",
   "metadata": {},
   "outputs": [],
   "source": [
    "df1=df1[df1['VarDesc'].isin(['Elevation under 5 meters',\n",
    "       'Elevation between 800 and 1500 meters',\n",
    "       'Elevation between 200 and 400 meters',\n",
    "       'Elevation between 1500 and 3000 meters',\n",
    "       'Elevation between 50 and 100 meters',\n",
    "       'Elevation between 25 and 50 meters',\n",
    "       'Elevation between 400 and 800 meters',\n",
    "       'Elevation between 5 and 10 meters',\n",
    "       'Elevation between 10 and 25 meters',\n",
    "       'Elevation between 100 and 200 meters',\n",
    "       'Elevation between 3000 and 5000 meters',\n",
    "       'Elevation over 5000 meters'])]"
   ]
  },
  {
   "cell_type": "code",
   "execution_count": 119,
   "id": "ec20abf0-c64f-4527-9b6e-3d8091ee74fc",
   "metadata": {},
   "outputs": [
    {
     "data": {
      "text/plain": [
       "array(['Elevation under 5 meters', 'Elevation between 50 and 100 meters',\n",
       "       'Elevation between 800 and 1500 meters',\n",
       "       'Elevation between 25 and 50 meters',\n",
       "       'Elevation between 10 and 25 meters',\n",
       "       'Elevation between 200 and 400 meters',\n",
       "       'Elevation between 100 and 200 meters',\n",
       "       'Elevation between 5 and 10 meters',\n",
       "       'Elevation between 1500 and 3000 meters',\n",
       "       'Elevation between 400 and 800 meters',\n",
       "       'Elevation between 3000 and 5000 meters'], dtype=object)"
      ]
     },
     "execution_count": 119,
     "metadata": {},
     "output_type": "execute_result"
    }
   ],
   "source": [
    "df1['VarDesc'].unique()"
   ]
  },
  {
   "cell_type": "code",
   "execution_count": 120,
   "id": "e27e1c57-bca1-4b2b-8e42-03aeb35abeed",
   "metadata": {},
   "outputs": [
    {
     "data": {
      "image/png": "[encoded data removed]",
      "text/plain": [
       "<Figure size 1200x700 with 1 Axes>"
      ]
     },
     "metadata": {},
     "output_type": "display_data"
    }
   ],
   "source": [
    "fig,ax=plt.subplots(1,1,figsize=(12,7))\n",
    "df1.boxplot('UrbanPop','VarDesc',ax=ax)\n",
    "plt.show()"
   ]
  },
  {
   "cell_type": "code",
   "execution_count": 121,
   "id": "e75fdf72-5459-4063-b733-2987aaa724e1",
   "metadata": {},
   "outputs": [
    {
     "data": {
      "text/plain": [
       "(7503, 9)"
      ]
     },
     "execution_count": 121,
     "metadata": {},
     "output_type": "execute_result"
    }
   ],
   "source": [
    "df1.shape"
   ]
  },
  {
   "cell_type": "code",
   "execution_count": 122,
   "id": "3a240a23-b986-4aa4-90ae-0f43e93be475",
   "metadata": {},
   "outputs": [
    {
     "data": {
      "text/plain": [
       "array(['Low income', 'Lower middle income', 'Upper middle income',\n",
       "       'High income'], dtype=object)"
      ]
     },
     "execution_count": 122,
     "metadata": {},
     "output_type": "execute_result"
    }
   ],
   "source": [
    "df1['IncomeGrp'].unique()"
   ]
  },
  {
   "cell_type": "code",
   "execution_count": 123,
   "id": "d08edfdb-0598-4fd0-ac9a-b821add8f4b7",
   "metadata": {},
   "outputs": [
    {
     "data": {
      "text/plain": [
       "array(['Elevation under 5 meters', 'Elevation between 50 and 100 meters',\n",
       "       'Elevation between 800 and 1500 meters',\n",
       "       'Elevation between 25 and 50 meters',\n",
       "       'Elevation between 10 and 25 meters',\n",
       "       'Elevation between 200 and 400 meters',\n",
       "       'Elevation between 100 and 200 meters',\n",
       "       'Elevation between 5 and 10 meters',\n",
       "       'Elevation between 1500 and 3000 meters',\n",
       "       'Elevation between 400 and 800 meters',\n",
       "       'Elevation between 3000 and 5000 meters'], dtype=object)"
      ]
     },
     "execution_count": 123,
     "metadata": {},
     "output_type": "execute_result"
    }
   ],
   "source": [
    "df1['VarDesc'].unique()"
   ]
  },
  {
   "cell_type": "code",
   "execution_count": 124,
   "id": "efc3e2d3-8d04-4c17-a8b4-c6555b7755b5",
   "metadata": {},
   "outputs": [
    {
     "data": {
      "text/plain": [
       "array(['Western Asia', 'Western Africa', 'Eastern Africa', 'Central Asia',\n",
       "       'Eastern Asia', 'Caribbean', 'Middle Africa', 'Southern Asia',\n",
       "       'Eastern Europe', 'Central America', 'Northern Africa',\n",
       "       'South-eastern Asia', 'South America', 'Melanesia',\n",
       "       'Southern Africa', 'Micronesia', 'Southern Europe',\n",
       "       'Western Europe', 'Northern Europe', 'Australia and New Zealand',\n",
       "       'Northern America'], dtype=object)"
      ]
     },
     "execution_count": 124,
     "metadata": {},
     "output_type": "execute_result"
    }
   ],
   "source": [
    "df1['GeoSubreg'].unique()"
   ]
  },
  {
   "cell_type": "code",
   "execution_count": 125,
   "id": "6c9b80ff-fbf4-4656-a1fc-6f2447233faa",
   "metadata": {},
   "outputs": [
    {
     "data": {
      "text/html": [
       "<div>\n",
       "<style scoped>\n",
       "    .dataframe tbody tr th:only-of-type {\n",
       "        vertical-align: middle;\n",
       "    }\n",
       "\n",
       "    .dataframe tbody tr th {\n",
       "        vertical-align: top;\n",
       "    }\n",
       "\n",
       "    .dataframe thead th {\n",
       "        text-align: right;\n",
       "    }\n",
       "</style>\n",
       "<table border=\"1\" class=\"dataframe\">\n",
       "  <thead>\n",
       "    <tr style=\"text-align: right;\">\n",
       "      <th></th>\n",
       "      <th>UrbanPop</th>\n",
       "      <th>RuralPop</th>\n",
       "      <th>RuralLA</th>\n",
       "      <th>UrbanLA</th>\n",
       "      <th>TotalLA</th>\n",
       "      <th>TotalPop</th>\n",
       "    </tr>\n",
       "  </thead>\n",
       "  <tbody>\n",
       "    <tr>\n",
       "      <th>count</th>\n",
       "      <td>7503.000000</td>\n",
       "      <td>7.503000e+03</td>\n",
       "      <td>7.503000e+03</td>\n",
       "      <td>7503.000000</td>\n",
       "      <td>7.503000e+03</td>\n",
       "      <td>7.503000e+03</td>\n",
       "    </tr>\n",
       "    <tr>\n",
       "      <th>mean</th>\n",
       "      <td>147372.844601</td>\n",
       "      <td>5.836124e+05</td>\n",
       "      <td>1.042634e+05</td>\n",
       "      <td>1155.159574</td>\n",
       "      <td>1.054186e+05</td>\n",
       "      <td>7.309852e+05</td>\n",
       "    </tr>\n",
       "    <tr>\n",
       "      <th>std</th>\n",
       "      <td>198413.008297</td>\n",
       "      <td>1.326167e+06</td>\n",
       "      <td>3.154953e+05</td>\n",
       "      <td>2443.965683</td>\n",
       "      <td>3.162761e+05</td>\n",
       "      <td>1.401545e+06</td>\n",
       "    </tr>\n",
       "    <tr>\n",
       "      <th>min</th>\n",
       "      <td>10004.280354</td>\n",
       "      <td>0.000000e+00</td>\n",
       "      <td>0.000000e+00</td>\n",
       "      <td>1.366241</td>\n",
       "      <td>2.430921e+00</td>\n",
       "      <td>1.044853e+04</td>\n",
       "    </tr>\n",
       "    <tr>\n",
       "      <th>25%</th>\n",
       "      <td>23660.265250</td>\n",
       "      <td>4.229972e+04</td>\n",
       "      <td>3.435552e+03</td>\n",
       "      <td>157.768828</td>\n",
       "      <td>3.911662e+03</td>\n",
       "      <td>9.019719e+04</td>\n",
       "    </tr>\n",
       "    <tr>\n",
       "      <th>50%</th>\n",
       "      <td>59784.421410</td>\n",
       "      <td>1.513659e+05</td>\n",
       "      <td>1.548687e+04</td>\n",
       "      <td>438.449044</td>\n",
       "      <td>1.636540e+04</td>\n",
       "      <td>2.672964e+05</td>\n",
       "    </tr>\n",
       "    <tr>\n",
       "      <th>75%</th>\n",
       "      <td>181028.190359</td>\n",
       "      <td>5.148382e+05</td>\n",
       "      <td>6.877153e+04</td>\n",
       "      <td>1039.517800</td>\n",
       "      <td>6.993049e+04</td>\n",
       "      <td>7.826336e+05</td>\n",
       "    </tr>\n",
       "    <tr>\n",
       "      <th>max</th>\n",
       "      <td>999330.547036</td>\n",
       "      <td>2.839959e+07</td>\n",
       "      <td>3.890167e+06</td>\n",
       "      <td>39274.314282</td>\n",
       "      <td>3.913663e+06</td>\n",
       "      <td>2.889486e+07</td>\n",
       "    </tr>\n",
       "  </tbody>\n",
       "</table>\n",
       "</div>"
      ],
      "text/plain": [
       "            UrbanPop      RuralPop       RuralLA       UrbanLA       TotalLA  \\\n",
       "count    7503.000000  7.503000e+03  7.503000e+03   7503.000000  7.503000e+03   \n",
       "mean   147372.844601  5.836124e+05  1.042634e+05   1155.159574  1.054186e+05   \n",
       "std    198413.008297  1.326167e+06  3.154953e+05   2443.965683  3.162761e+05   \n",
       "min     10004.280354  0.000000e+00  0.000000e+00      1.366241  2.430921e+00   \n",
       "25%     23660.265250  4.229972e+04  3.435552e+03    157.768828  3.911662e+03   \n",
       "50%     59784.421410  1.513659e+05  1.548687e+04    438.449044  1.636540e+04   \n",
       "75%    181028.190359  5.148382e+05  6.877153e+04   1039.517800  6.993049e+04   \n",
       "max    999330.547036  2.839959e+07  3.890167e+06  39274.314282  3.913663e+06   \n",
       "\n",
       "           TotalPop  \n",
       "count  7.503000e+03  \n",
       "mean   7.309852e+05  \n",
       "std    1.401545e+06  \n",
       "min    1.044853e+04  \n",
       "25%    9.019719e+04  \n",
       "50%    2.672964e+05  \n",
       "75%    7.826336e+05  \n",
       "max    2.889486e+07  "
      ]
     },
     "execution_count": 125,
     "metadata": {},
     "output_type": "execute_result"
    }
   ],
   "source": [
    "df1.describe()"
   ]
  },
  {
   "cell_type": "code",
   "execution_count": 126,
   "id": "6bf258c5-b6ca-47cc-826d-6fcab2387bb8",
   "metadata": {},
   "outputs": [],
   "source": [
    "le_Geo=LabelEncoder()\n",
    "df1['GeoSubreg']=le_Geo.fit_transform(df1['GeoSubreg'])\n",
    "\n",
    "le_Var=LabelEncoder()\n",
    "df1['VarDesc']=le_Var.fit_transform(df1['VarDesc'])\n",
    "\n"
   ]
  },
  {
   "cell_type": "code",
   "execution_count": 127,
   "id": "6f94be53-030c-42ac-aa43-ecec0af3b7d9",
   "metadata": {},
   "outputs": [
    {
     "data": {
      "text/plain": [
       "array([19, 18,  4,  3,  5,  1,  9, 16,  6,  2, 10, 14, 13,  7, 15,  8, 17,\n",
       "       20, 12,  0, 11])"
      ]
     },
     "execution_count": 127,
     "metadata": {},
     "output_type": "execute_result"
    }
   ],
   "source": [
    "df1['GeoSubreg'].unique()"
   ]
  },
  {
   "cell_type": "code",
   "execution_count": 128,
   "id": "fbdf3434-070b-46ee-a2eb-dbb6e5ec3faf",
   "metadata": {},
   "outputs": [
    {
     "data": {
      "text/plain": [
       "array([10,  8,  9,  4,  0,  3,  1,  7,  2,  6,  5])"
      ]
     },
     "execution_count": 128,
     "metadata": {},
     "output_type": "execute_result"
    }
   ],
   "source": [
    "df1['VarDesc'].unique()"
   ]
  },
  {
   "cell_type": "code",
   "execution_count": 129,
   "id": "2592163a-c10c-462e-9a87-dd0b57a92bc1",
   "metadata": {},
   "outputs": [
    {
     "data": {
      "text/plain": [
       "array(['Low income', 'Lower middle income', 'Upper middle income',\n",
       "       'High income'], dtype=object)"
      ]
     },
     "execution_count": 129,
     "metadata": {},
     "output_type": "execute_result"
    }
   ],
   "source": [
    "df1['IncomeGrp'].unique()"
   ]
  },
  {
   "cell_type": "code",
   "execution_count": 130,
   "id": "fb4e7b08",
   "metadata": {},
   "outputs": [],
   "source": [
    "df2 = df1.copy()"
   ]
  },
  {
   "cell_type": "code",
   "execution_count": 132,
   "id": "8975b9e0",
   "metadata": {},
   "outputs": [
    {
     "name": "stdout",
     "output_type": "stream",
     "text": [
      "Accuracy: 0.9733510992671552\n"
     ]
    }
   ],
   "source": [
    "from sklearn.model_selection import train_test_split\n",
    "\n",
    "\n",
    "X1 = df2.drop(\"IncomeGrp\", axis=1)\n",
    "y1 = df2[\"IncomeGrp\"]\n",
    "X1_train, X1_test, y1_train, y1_test = train_test_split(X1, y1, test_size=0.2, random_state=42)\n",
    "random_forest_classifier = RandomForestClassifier(n_estimators=100, random_state=42)\n",
    "random_forest_classifier.fit(X1_train, y1_train)\n",
    "y_pred = random_forest_classifier.predict(X1_test)\n",
    "accuracy = accuracy_score(y1_test, y_pred)\n",
    "print(f\"Accuracy: {accuracy}\")\n"
   ]
  },
  {
   "cell_type": "code",
   "execution_count": 133,
   "id": "406530d8",
   "metadata": {},
   "outputs": [],
   "source": [
    "le_Inc=LabelEncoder()\n",
    "df1['IncomeGrp']=le_Inc.fit_transform(df1['IncomeGrp'])"
   ]
  },
  {
   "cell_type": "code",
   "execution_count": 134,
   "id": "ee7ac753-1693-4def-94c0-768cbb384d61",
   "metadata": {},
   "outputs": [
    {
     "data": {
      "text/html": [
       "<style>#sk-container-id-3 {color: black;}#sk-container-id-3 pre{padding: 0;}#sk-container-id-3 div.sk-toggleable {background-color: white;}#sk-container-id-3 label.sk-toggleable__label {cursor: pointer;display: block;width: 100%;margin-bottom: 0;padding: 0.3em;box-sizing: border-box;text-align: center;}#sk-container-id-3 label.sk-toggleable__label-arrow:before {content: \"▸\";float: left;margin-right: 0.25em;color: #696969;}#sk-container-id-3 label.sk-toggleable__label-arrow:hover:before {color: black;}#sk-container-id-3 div.sk-estimator:hover label.sk-toggleable__label-arrow:before {color: black;}#sk-container-id-3 div.sk-toggleable__content {max-height: 0;max-width: 0;overflow: hidden;text-align: left;background-color: #f0f8ff;}#sk-container-id-3 div.sk-toggleable__content pre {margin: 0.2em;color: black;border-radius: 0.25em;background-color: #f0f8ff;}#sk-container-id-3 input.sk-toggleable__control:checked~div.sk-toggleable__content {max-height: 200px;max-width: 100%;overflow: auto;}#sk-container-id-3 input.sk-toggleable__control:checked~label.sk-toggleable__label-arrow:before {content: \"▾\";}#sk-container-id-3 div.sk-estimator input.sk-toggleable__control:checked~label.sk-toggleable__label {background-color: #d4ebff;}#sk-container-id-3 div.sk-label input.sk-toggleable__control:checked~label.sk-toggleable__label {background-color: #d4ebff;}#sk-container-id-3 input.sk-hidden--visually {border: 0;clip: rect(1px 1px 1px 1px);clip: rect(1px, 1px, 1px, 1px);height: 1px;margin: -1px;overflow: hidden;padding: 0;position: absolute;width: 1px;}#sk-container-id-3 div.sk-estimator {font-family: monospace;background-color: #f0f8ff;border: 1px dotted black;border-radius: 0.25em;box-sizing: border-box;margin-bottom: 0.5em;}#sk-container-id-3 div.sk-estimator:hover {background-color: #d4ebff;}#sk-container-id-3 div.sk-parallel-item::after {content: \"\";width: 100%;border-bottom: 1px solid gray;flex-grow: 1;}#sk-container-id-3 div.sk-label:hover label.sk-toggleable__label {background-color: #d4ebff;}#sk-container-id-3 div.sk-serial::before {content: \"\";position: absolute;border-left: 1px solid gray;box-sizing: border-box;top: 0;bottom: 0;left: 50%;z-index: 0;}#sk-container-id-3 div.sk-serial {display: flex;flex-direction: column;align-items: center;background-color: white;padding-right: 0.2em;padding-left: 0.2em;position: relative;}#sk-container-id-3 div.sk-item {position: relative;z-index: 1;}#sk-container-id-3 div.sk-parallel {display: flex;align-items: stretch;justify-content: center;background-color: white;position: relative;}#sk-container-id-3 div.sk-item::before, #sk-container-id-3 div.sk-parallel-item::before {content: \"\";position: absolute;border-left: 1px solid gray;box-sizing: border-box;top: 0;bottom: 0;left: 50%;z-index: -1;}#sk-container-id-3 div.sk-parallel-item {display: flex;flex-direction: column;z-index: 1;position: relative;background-color: white;}#sk-container-id-3 div.sk-parallel-item:first-child::after {align-self: flex-end;width: 50%;}#sk-container-id-3 div.sk-parallel-item:last-child::after {align-self: flex-start;width: 50%;}#sk-container-id-3 div.sk-parallel-item:only-child::after {width: 0;}#sk-container-id-3 div.sk-dashed-wrapped {border: 1px dashed gray;margin: 0 0.4em 0.5em 0.4em;box-sizing: border-box;padding-bottom: 0.4em;background-color: white;}#sk-container-id-3 div.sk-label label {font-family: monospace;font-weight: bold;display: inline-block;line-height: 1.2em;}#sk-container-id-3 div.sk-label-container {text-align: center;}#sk-container-id-3 div.sk-container {/* jupyter's `normalize.less` sets `[hidden] { display: none; }` but bootstrap.min.css set `[hidden] { display: none !important; }` so we also need the `!important` here to be able to override the default hidden behavior on the sphinx rendered scikit-learn.org. See: https://github.com/scikit-learn/scikit-learn/issues/21755 */display: inline-block !important;position: relative;}#sk-container-id-3 div.sk-text-repr-fallback {display: none;}</style><div id=\"sk-container-id-3\" class=\"sk-top-container\"><div class=\"sk-text-repr-fallback\"><pre>LinearRegression()</pre><b>In a Jupyter environment, please rerun this cell to show the HTML representation or trust the notebook. <br />On GitHub, the HTML representation is unable to render, please try loading this page with nbviewer.org.</b></div><div class=\"sk-container\" hidden><div class=\"sk-item\"><div class=\"sk-estimator sk-toggleable\"><input class=\"sk-toggleable__control sk-hidden--visually\" id=\"sk-estimator-id-3\" type=\"checkbox\" checked><label for=\"sk-estimator-id-3\" class=\"sk-toggleable__label sk-toggleable__label-arrow\">LinearRegression</label><div class=\"sk-toggleable__content\"><pre>LinearRegression()</pre></div></div></div></div></div>"
      ],
      "text/plain": [
       "LinearRegression()"
      ]
     },
     "execution_count": 134,
     "metadata": {},
     "output_type": "execute_result"
    }
   ],
   "source": [
    "\n",
    "X2=df1.drop(\"TotalPop\",axis=1)\n",
    "y2=df1['TotalPop']\n",
    "\n",
    "X2_train, X2_test, y2_train, y2_test = train_test_split(X2, y2, test_size=0.2, random_state=42)\n",
    "linear_reg=LinearRegression()\n",
    "linear_reg.fit(X2_train,y2_train)\n",
    "#linear_reg.score(y,y_test)"
   ]
  },
  {
   "cell_type": "code",
   "execution_count": 135,
   "id": "2d964879",
   "metadata": {},
   "outputs": [
    {
     "data": {
      "text/html": [
       "<div>\n",
       "<style scoped>\n",
       "    .dataframe tbody tr th:only-of-type {\n",
       "        vertical-align: middle;\n",
       "    }\n",
       "\n",
       "    .dataframe tbody tr th {\n",
       "        vertical-align: top;\n",
       "    }\n",
       "\n",
       "    .dataframe thead th {\n",
       "        text-align: right;\n",
       "    }\n",
       "</style>\n",
       "<table border=\"1\" class=\"dataframe\">\n",
       "  <thead>\n",
       "    <tr style=\"text-align: right;\">\n",
       "      <th></th>\n",
       "      <th>GeoSubreg</th>\n",
       "      <th>IncomeGrp</th>\n",
       "      <th>VarDesc</th>\n",
       "      <th>UrbanPop</th>\n",
       "      <th>RuralPop</th>\n",
       "      <th>RuralLA</th>\n",
       "      <th>UrbanLA</th>\n",
       "      <th>TotalLA</th>\n",
       "    </tr>\n",
       "  </thead>\n",
       "  <tbody>\n",
       "    <tr>\n",
       "      <th>5816</th>\n",
       "      <td>14</td>\n",
       "      <td>2</td>\n",
       "      <td>10</td>\n",
       "      <td>16300.139040</td>\n",
       "      <td>158806.067817</td>\n",
       "      <td>29207.037199</td>\n",
       "      <td>339.216363</td>\n",
       "      <td>29546.253562</td>\n",
       "    </tr>\n",
       "    <tr>\n",
       "      <th>8307</th>\n",
       "      <td>6</td>\n",
       "      <td>2</td>\n",
       "      <td>3</td>\n",
       "      <td>117191.155817</td>\n",
       "      <td>246829.538267</td>\n",
       "      <td>140628.515295</td>\n",
       "      <td>4839.897215</td>\n",
       "      <td>145468.412510</td>\n",
       "    </tr>\n",
       "    <tr>\n",
       "      <th>8260</th>\n",
       "      <td>9</td>\n",
       "      <td>2</td>\n",
       "      <td>1</td>\n",
       "      <td>90652.980449</td>\n",
       "      <td>237979.659391</td>\n",
       "      <td>30693.940928</td>\n",
       "      <td>422.747165</td>\n",
       "      <td>31116.688093</td>\n",
       "    </tr>\n",
       "    <tr>\n",
       "      <th>11544</th>\n",
       "      <td>19</td>\n",
       "      <td>3</td>\n",
       "      <td>1</td>\n",
       "      <td>14547.361273</td>\n",
       "      <td>2554.042097</td>\n",
       "      <td>199.442308</td>\n",
       "      <td>217.115639</td>\n",
       "      <td>416.557947</td>\n",
       "    </tr>\n",
       "    <tr>\n",
       "      <th>19075</th>\n",
       "      <td>6</td>\n",
       "      <td>0</td>\n",
       "      <td>6</td>\n",
       "      <td>10942.893061</td>\n",
       "      <td>104335.798554</td>\n",
       "      <td>16581.980544</td>\n",
       "      <td>393.066307</td>\n",
       "      <td>16975.046851</td>\n",
       "    </tr>\n",
       "  </tbody>\n",
       "</table>\n",
       "</div>"
      ],
      "text/plain": [
       "       GeoSubreg  IncomeGrp  VarDesc       UrbanPop       RuralPop  \\\n",
       "5816          14          2       10   16300.139040  158806.067817   \n",
       "8307           6          2        3  117191.155817  246829.538267   \n",
       "8260           9          2        1   90652.980449  237979.659391   \n",
       "11544         19          3        1   14547.361273    2554.042097   \n",
       "19075          6          0        6   10942.893061  104335.798554   \n",
       "\n",
       "             RuralLA      UrbanLA        TotalLA  \n",
       "5816    29207.037199   339.216363   29546.253562  \n",
       "8307   140628.515295  4839.897215  145468.412510  \n",
       "8260    30693.940928   422.747165   31116.688093  \n",
       "11544     199.442308   217.115639     416.557947  \n",
       "19075   16581.980544   393.066307   16975.046851  "
      ]
     },
     "execution_count": 135,
     "metadata": {},
     "output_type": "execute_result"
    }
   ],
   "source": [
    "X2_test.head()"
   ]
  },
  {
   "cell_type": "code",
   "execution_count": 136,
   "id": "42dda5d7-03a6-4442-a96d-1fd13f2204b2",
   "metadata": {},
   "outputs": [
    {
     "data": {
      "text/plain": [
       "0.9953673208671937"
      ]
     },
     "execution_count": 136,
     "metadata": {},
     "output_type": "execute_result"
    }
   ],
   "source": [
    "model=RandomForestRegressor(n_estimators=100)\n",
    "model.fit(X2_train,y2_train)\n",
    "model.score(X2_test,y2_test)"
   ]
  },
  {
   "cell_type": "code",
   "execution_count": 137,
   "id": "765a8a71-d6e1-4068-8c63-60915591bea9",
   "metadata": {},
   "outputs": [
    {
     "data": {
      "text/html": [
       "<div>\n",
       "<style scoped>\n",
       "    .dataframe tbody tr th:only-of-type {\n",
       "        vertical-align: middle;\n",
       "    }\n",
       "\n",
       "    .dataframe tbody tr th {\n",
       "        vertical-align: top;\n",
       "    }\n",
       "\n",
       "    .dataframe thead th {\n",
       "        text-align: right;\n",
       "    }\n",
       "</style>\n",
       "<table border=\"1\" class=\"dataframe\">\n",
       "  <thead>\n",
       "    <tr style=\"text-align: right;\">\n",
       "      <th></th>\n",
       "      <th>GeoSubreg</th>\n",
       "      <th>IncomeGrp</th>\n",
       "      <th>VarDesc</th>\n",
       "      <th>UrbanPop</th>\n",
       "      <th>RuralPop</th>\n",
       "      <th>RuralLA</th>\n",
       "      <th>UrbanLA</th>\n",
       "      <th>TotalLA</th>\n",
       "    </tr>\n",
       "  </thead>\n",
       "  <tbody>\n",
       "    <tr>\n",
       "      <th>12525</th>\n",
       "      <td>13</td>\n",
       "      <td>3</td>\n",
       "      <td>4</td>\n",
       "      <td>40785.705124</td>\n",
       "      <td>3.390434e+04</td>\n",
       "      <td>5637.399767</td>\n",
       "      <td>339.810911</td>\n",
       "      <td>5977.210678</td>\n",
       "    </tr>\n",
       "    <tr>\n",
       "      <th>11664</th>\n",
       "      <td>13</td>\n",
       "      <td>3</td>\n",
       "      <td>6</td>\n",
       "      <td>53969.906357</td>\n",
       "      <td>2.372778e+05</td>\n",
       "      <td>133868.982673</td>\n",
       "      <td>1502.635680</td>\n",
       "      <td>135371.618353</td>\n",
       "    </tr>\n",
       "    <tr>\n",
       "      <th>9128</th>\n",
       "      <td>14</td>\n",
       "      <td>2</td>\n",
       "      <td>0</td>\n",
       "      <td>64877.344422</td>\n",
       "      <td>2.324524e+05</td>\n",
       "      <td>25656.389977</td>\n",
       "      <td>1047.890771</td>\n",
       "      <td>26704.280748</td>\n",
       "    </tr>\n",
       "    <tr>\n",
       "      <th>7353</th>\n",
       "      <td>14</td>\n",
       "      <td>2</td>\n",
       "      <td>6</td>\n",
       "      <td>90820.561867</td>\n",
       "      <td>1.797255e+06</td>\n",
       "      <td>73309.166084</td>\n",
       "      <td>1074.900999</td>\n",
       "      <td>74384.067083</td>\n",
       "    </tr>\n",
       "    <tr>\n",
       "      <th>6262</th>\n",
       "      <td>14</td>\n",
       "      <td>2</td>\n",
       "      <td>1</td>\n",
       "      <td>540723.077532</td>\n",
       "      <td>1.833852e+06</td>\n",
       "      <td>34369.544149</td>\n",
       "      <td>400.245844</td>\n",
       "      <td>34769.789993</td>\n",
       "    </tr>\n",
       "  </tbody>\n",
       "</table>\n",
       "</div>"
      ],
      "text/plain": [
       "       GeoSubreg  IncomeGrp  VarDesc       UrbanPop      RuralPop  \\\n",
       "12525         13          3        4   40785.705124  3.390434e+04   \n",
       "11664         13          3        6   53969.906357  2.372778e+05   \n",
       "9128          14          2        0   64877.344422  2.324524e+05   \n",
       "7353          14          2        6   90820.561867  1.797255e+06   \n",
       "6262          14          2        1  540723.077532  1.833852e+06   \n",
       "\n",
       "             RuralLA      UrbanLA        TotalLA  \n",
       "12525    5637.399767   339.810911    5977.210678  \n",
       "11664  133868.982673  1502.635680  135371.618353  \n",
       "9128    25656.389977  1047.890771   26704.280748  \n",
       "7353    73309.166084  1074.900999   74384.067083  \n",
       "6262    34369.544149   400.245844   34769.789993  "
      ]
     },
     "execution_count": 137,
     "metadata": {},
     "output_type": "execute_result"
    }
   ],
   "source": [
    "X2_train.head()"
   ]
  },
  {
   "cell_type": "code",
   "execution_count": 138,
   "id": "4bde15c3-7dc9-497e-8593-c4c983a7fe41",
   "metadata": {},
   "outputs": [
    {
     "data": {
      "text/html": [
       "<style>#sk-container-id-4 {color: black;}#sk-container-id-4 pre{padding: 0;}#sk-container-id-4 div.sk-toggleable {background-color: white;}#sk-container-id-4 label.sk-toggleable__label {cursor: pointer;display: block;width: 100%;margin-bottom: 0;padding: 0.3em;box-sizing: border-box;text-align: center;}#sk-container-id-4 label.sk-toggleable__label-arrow:before {content: \"▸\";float: left;margin-right: 0.25em;color: #696969;}#sk-container-id-4 label.sk-toggleable__label-arrow:hover:before {color: black;}#sk-container-id-4 div.sk-estimator:hover label.sk-toggleable__label-arrow:before {color: black;}#sk-container-id-4 div.sk-toggleable__content {max-height: 0;max-width: 0;overflow: hidden;text-align: left;background-color: #f0f8ff;}#sk-container-id-4 div.sk-toggleable__content pre {margin: 0.2em;color: black;border-radius: 0.25em;background-color: #f0f8ff;}#sk-container-id-4 input.sk-toggleable__control:checked~div.sk-toggleable__content {max-height: 200px;max-width: 100%;overflow: auto;}#sk-container-id-4 input.sk-toggleable__control:checked~label.sk-toggleable__label-arrow:before {content: \"▾\";}#sk-container-id-4 div.sk-estimator input.sk-toggleable__control:checked~label.sk-toggleable__label {background-color: #d4ebff;}#sk-container-id-4 div.sk-label input.sk-toggleable__control:checked~label.sk-toggleable__label {background-color: #d4ebff;}#sk-container-id-4 input.sk-hidden--visually {border: 0;clip: rect(1px 1px 1px 1px);clip: rect(1px, 1px, 1px, 1px);height: 1px;margin: -1px;overflow: hidden;padding: 0;position: absolute;width: 1px;}#sk-container-id-4 div.sk-estimator {font-family: monospace;background-color: #f0f8ff;border: 1px dotted black;border-radius: 0.25em;box-sizing: border-box;margin-bottom: 0.5em;}#sk-container-id-4 div.sk-estimator:hover {background-color: #d4ebff;}#sk-container-id-4 div.sk-parallel-item::after {content: \"\";width: 100%;border-bottom: 1px solid gray;flex-grow: 1;}#sk-container-id-4 div.sk-label:hover label.sk-toggleable__label {background-color: #d4ebff;}#sk-container-id-4 div.sk-serial::before {content: \"\";position: absolute;border-left: 1px solid gray;box-sizing: border-box;top: 0;bottom: 0;left: 50%;z-index: 0;}#sk-container-id-4 div.sk-serial {display: flex;flex-direction: column;align-items: center;background-color: white;padding-right: 0.2em;padding-left: 0.2em;position: relative;}#sk-container-id-4 div.sk-item {position: relative;z-index: 1;}#sk-container-id-4 div.sk-parallel {display: flex;align-items: stretch;justify-content: center;background-color: white;position: relative;}#sk-container-id-4 div.sk-item::before, #sk-container-id-4 div.sk-parallel-item::before {content: \"\";position: absolute;border-left: 1px solid gray;box-sizing: border-box;top: 0;bottom: 0;left: 50%;z-index: -1;}#sk-container-id-4 div.sk-parallel-item {display: flex;flex-direction: column;z-index: 1;position: relative;background-color: white;}#sk-container-id-4 div.sk-parallel-item:first-child::after {align-self: flex-end;width: 50%;}#sk-container-id-4 div.sk-parallel-item:last-child::after {align-self: flex-start;width: 50%;}#sk-container-id-4 div.sk-parallel-item:only-child::after {width: 0;}#sk-container-id-4 div.sk-dashed-wrapped {border: 1px dashed gray;margin: 0 0.4em 0.5em 0.4em;box-sizing: border-box;padding-bottom: 0.4em;background-color: white;}#sk-container-id-4 div.sk-label label {font-family: monospace;font-weight: bold;display: inline-block;line-height: 1.2em;}#sk-container-id-4 div.sk-label-container {text-align: center;}#sk-container-id-4 div.sk-container {/* jupyter's `normalize.less` sets `[hidden] { display: none; }` but bootstrap.min.css set `[hidden] { display: none !important; }` so we also need the `!important` here to be able to override the default hidden behavior on the sphinx rendered scikit-learn.org. See: https://github.com/scikit-learn/scikit-learn/issues/21755 */display: inline-block !important;position: relative;}#sk-container-id-4 div.sk-text-repr-fallback {display: none;}</style><div id=\"sk-container-id-4\" class=\"sk-top-container\"><div class=\"sk-text-repr-fallback\"><pre>RandomForestRegressor(random_state=0)</pre><b>In a Jupyter environment, please rerun this cell to show the HTML representation or trust the notebook. <br />On GitHub, the HTML representation is unable to render, please try loading this page with nbviewer.org.</b></div><div class=\"sk-container\" hidden><div class=\"sk-item\"><div class=\"sk-estimator sk-toggleable\"><input class=\"sk-toggleable__control sk-hidden--visually\" id=\"sk-estimator-id-4\" type=\"checkbox\" checked><label for=\"sk-estimator-id-4\" class=\"sk-toggleable__label sk-toggleable__label-arrow\">RandomForestRegressor</label><div class=\"sk-toggleable__content\"><pre>RandomForestRegressor(random_state=0)</pre></div></div></div></div></div>"
      ],
      "text/plain": [
       "RandomForestRegressor(random_state=0)"
      ]
     },
     "execution_count": 138,
     "metadata": {},
     "output_type": "execute_result"
    }
   ],
   "source": [
    "random_forest_reg=RandomForestRegressor(random_state=0)\n",
    "random_forest_reg.fit(X2,y2.values)"
   ]
  },
  {
   "cell_type": "code",
   "execution_count": 139,
   "id": "73620a77-855a-4a24-afe4-cfaec470ea16",
   "metadata": {},
   "outputs": [],
   "source": [
    "y_predict=random_forest_reg.predict(X2)"
   ]
  },
  {
   "cell_type": "code",
   "execution_count": 140,
   "id": "e639adba-3f47-4672-93fa-81a56a43e97f",
   "metadata": {},
   "outputs": [],
   "source": [
    "error=np.sqrt(mean_squared_error(y2,y_predict))"
   ]
  },
  {
   "cell_type": "code",
   "execution_count": 141,
   "id": "08eadf9d-e55f-4149-986d-1cfd314649ee",
   "metadata": {},
   "outputs": [
    {
     "data": {
      "text/plain": [
       "30596.069729105817"
      ]
     },
     "execution_count": 141,
     "metadata": {},
     "output_type": "execute_result"
    }
   ],
   "source": [
    "error"
   ]
  },
  {
   "cell_type": "code",
   "execution_count": 142,
   "id": "93048976-4200-403d-aa08-4825789341b6",
   "metadata": {},
   "outputs": [],
   "source": [
    "# accuracy = accuracy_score(y_test, y_predict)"
   ]
  },
  {
   "cell_type": "code",
   "execution_count": 143,
   "id": "a48e0832-f618-4789-b507-7ca329dd7566",
   "metadata": {},
   "outputs": [
    {
     "data": {
      "text/plain": [
       "array([[1.80000000e+01, 1.00000000e+00, 6.00000000e+00, 5.52190747e+04,\n",
       "        1.55352600e+05, 2.05311436e+02, 2.78183260e+01, 2.33129761e+02]])"
      ]
     },
     "execution_count": 143,
     "metadata": {},
     "output_type": "execute_result"
    }
   ],
   "source": [
    "\n",
    "#Input \n",
    "#df1=df[['GeoSubreg','IncomeGrp','VarDesc','UrbanPop','RuralPop','RuralLA','UrbanLA','TotalLA']]\n",
    "tes=np.array([[\"Western Africa\",\"Low income\",\"Elevation between 400 and 800 meters\",55219.074696,1.553526e+05,205.311436,27.818326,233.129761]])\n",
    "tes[:,0]=le_Geo.transform(tes[:,0])\n",
    "tes[:,1]=le_Inc.transform(tes[:,1])\n",
    "tes[:,2]=le_Var.transform(tes[:,2])\n",
    "tes=tes.astype(float)\n",
    "tes"
   ]
  },
  {
   "cell_type": "code",
   "execution_count": 144,
   "id": "953d1f72-b43f-48bc-82ba-81345929e929",
   "metadata": {},
   "outputs": [
    {
     "name": "stderr",
     "output_type": "stream",
     "text": [
      "C:\\Users\\ADMIN\\AppData\\Roaming\\Python\\Python311\\site-packages\\sklearn\\base.py:465: UserWarning: X does not have valid feature names, but LinearRegression was fitted with feature names\n",
      "  warnings.warn(\n"
     ]
    }
   ],
   "source": [
    "tes_pred=linear_reg.predict(tes)"
   ]
  },
  {
   "cell_type": "code",
   "execution_count": 145,
   "id": "a931ad6e-84bc-4ad1-92cd-03c398b75b7d",
   "metadata": {},
   "outputs": [
    {
     "data": {
      "text/plain": [
       "array([210571.67469613])"
      ]
     },
     "execution_count": 145,
     "metadata": {},
     "output_type": "execute_result"
    }
   ],
   "source": [
    "tes_pred"
   ]
  },
  {
   "cell_type": "code",
   "execution_count": 146,
   "id": "6939f5cf-3f54-4d6d-b5db-cdf1dbc274dd",
   "metadata": {},
   "outputs": [],
   "source": [
    "import pickle"
   ]
  },
  {
   "cell_type": "code",
   "execution_count": 147,
   "id": "00f1ad34-e1cf-49f7-9f1c-aff5aa737b61",
   "metadata": {},
   "outputs": [],
   "source": [
    "data={\"model\":linear_reg,\"classifier\":random_forest_classifier, \"le_Geo\":le_Geo, \"le_Inc\":le_Inc,\"le_Var\":le_Var}\n",
    "with open('saved_steps.pkl',\"wb\") as file:\n",
    "    pickle.dump(data,file)"
   ]
  },
  {
   "cell_type": "code",
   "execution_count": 148,
   "id": "ffe61abd-fcdc-4c24-b990-23eb78df648b",
   "metadata": {},
   "outputs": [],
   "source": [
    "with open('saved_steps.pkl','rb') as file:\n",
    "    pickle.load(file)\n",
    "regressor_loaded=data['model']\n",
    "le_Geo=data['le_Geo']\n",
    "le_Inc=data['le_Inc']\n",
    "le_Var=data['le_Var']"
   ]
  },
  {
   "cell_type": "code",
   "execution_count": 149,
   "id": "476350ac-4188-472e-8d90-87e4128afed0",
   "metadata": {},
   "outputs": [
    {
     "name": "stderr",
     "output_type": "stream",
     "text": [
      "C:\\Users\\ADMIN\\AppData\\Roaming\\Python\\Python311\\site-packages\\sklearn\\base.py:465: UserWarning: X does not have valid feature names, but LinearRegression was fitted with feature names\n",
      "  warnings.warn(\n"
     ]
    },
    {
     "data": {
      "text/plain": [
       "array([210571.67469613])"
      ]
     },
     "execution_count": 149,
     "metadata": {},
     "output_type": "execute_result"
    }
   ],
   "source": [
    "tes_pred2=regressor_loaded.predict(tes)\n",
    "tes_pred2"
   ]
  },
  {
   "cell_type": "code",
   "execution_count": 151,
   "id": "f5f9e0fd",
   "metadata": {},
   "outputs": [
    {
     "data": {
      "text/html": [
       "<div>\n",
       "<style scoped>\n",
       "    .dataframe tbody tr th:only-of-type {\n",
       "        vertical-align: middle;\n",
       "    }\n",
       "\n",
       "    .dataframe tbody tr th {\n",
       "        vertical-align: top;\n",
       "    }\n",
       "\n",
       "    .dataframe thead th {\n",
       "        text-align: right;\n",
       "    }\n",
       "</style>\n",
       "<table border=\"1\" class=\"dataframe\">\n",
       "  <thead>\n",
       "    <tr style=\"text-align: right;\">\n",
       "      <th></th>\n",
       "      <th>GeoSubreg</th>\n",
       "      <th>VarDesc</th>\n",
       "      <th>UrbanPop</th>\n",
       "      <th>RuralPop</th>\n",
       "      <th>RuralLA</th>\n",
       "      <th>UrbanLA</th>\n",
       "      <th>TotalLA</th>\n",
       "      <th>TotalPop</th>\n",
       "    </tr>\n",
       "  </thead>\n",
       "  <tbody>\n",
       "    <tr>\n",
       "      <th>5816</th>\n",
       "      <td>14</td>\n",
       "      <td>10</td>\n",
       "      <td>16300.139040</td>\n",
       "      <td>158806.067817</td>\n",
       "      <td>29207.037199</td>\n",
       "      <td>339.216363</td>\n",
       "      <td>29546.253562</td>\n",
       "      <td>175106.206857</td>\n",
       "    </tr>\n",
       "    <tr>\n",
       "      <th>8307</th>\n",
       "      <td>6</td>\n",
       "      <td>3</td>\n",
       "      <td>117191.155817</td>\n",
       "      <td>246829.538267</td>\n",
       "      <td>140628.515295</td>\n",
       "      <td>4839.897215</td>\n",
       "      <td>145468.412510</td>\n",
       "      <td>364020.694085</td>\n",
       "    </tr>\n",
       "    <tr>\n",
       "      <th>8260</th>\n",
       "      <td>9</td>\n",
       "      <td>1</td>\n",
       "      <td>90652.980449</td>\n",
       "      <td>237979.659391</td>\n",
       "      <td>30693.940928</td>\n",
       "      <td>422.747165</td>\n",
       "      <td>31116.688093</td>\n",
       "      <td>328632.639839</td>\n",
       "    </tr>\n",
       "    <tr>\n",
       "      <th>11544</th>\n",
       "      <td>19</td>\n",
       "      <td>1</td>\n",
       "      <td>14547.361273</td>\n",
       "      <td>2554.042097</td>\n",
       "      <td>199.442308</td>\n",
       "      <td>217.115639</td>\n",
       "      <td>416.557947</td>\n",
       "      <td>17101.403369</td>\n",
       "    </tr>\n",
       "    <tr>\n",
       "      <th>19075</th>\n",
       "      <td>6</td>\n",
       "      <td>6</td>\n",
       "      <td>10942.893061</td>\n",
       "      <td>104335.798554</td>\n",
       "      <td>16581.980544</td>\n",
       "      <td>393.066307</td>\n",
       "      <td>16975.046851</td>\n",
       "      <td>115278.691615</td>\n",
       "    </tr>\n",
       "  </tbody>\n",
       "</table>\n",
       "</div>"
      ],
      "text/plain": [
       "       GeoSubreg  VarDesc       UrbanPop       RuralPop        RuralLA  \\\n",
       "5816          14       10   16300.139040  158806.067817   29207.037199   \n",
       "8307           6        3  117191.155817  246829.538267  140628.515295   \n",
       "8260           9        1   90652.980449  237979.659391   30693.940928   \n",
       "11544         19        1   14547.361273    2554.042097     199.442308   \n",
       "19075          6        6   10942.893061  104335.798554   16581.980544   \n",
       "\n",
       "           UrbanLA        TotalLA       TotalPop  \n",
       "5816    339.216363   29546.253562  175106.206857  \n",
       "8307   4839.897215  145468.412510  364020.694085  \n",
       "8260    422.747165   31116.688093  328632.639839  \n",
       "11544   217.115639     416.557947   17101.403369  \n",
       "19075   393.066307   16975.046851  115278.691615  "
      ]
     },
     "execution_count": 151,
     "metadata": {},
     "output_type": "execute_result"
    }
   ],
   "source": [
    "X1_test.head()"
   ]
  },
  {
   "cell_type": "code",
   "execution_count": null,
   "id": "cc44534b",
   "metadata": {},
   "outputs": [],
   "source": []
  }
 ],
 "metadata": {
  "kernelspec": {
   "display_name": "Python 3 (ipykernel)",
   "language": "python",
   "name": "python3"
  },
  "language_info": {
   "codemirror_mode": {
    "name": "ipython",
    "version": 3
   },
   "file_extension": ".py",
   "mimetype": "text/x-python",
   "name": "python",
   "nbconvert_exporter": "python",
   "pygments_lexer": "ipython3",
   "version": "3.11.4"
  }
 },
 "nbformat": 4,
 "nbformat_minor": 5
}
