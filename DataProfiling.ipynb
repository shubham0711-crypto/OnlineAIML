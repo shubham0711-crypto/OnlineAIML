{
 "cells": [
  {
   "cell_type": "code",
   "execution_count": 1,
   "id": "81ab7c79",
   "metadata": {},
   "outputs": [
    {
     "name": "stdout",
     "output_type": "stream",
     "text": [
      "Requirement already satisfied: pandas in c:\\users\\zoyeb\\anaconda3\\lib\\site-packages (1.5.3)"
     ]
    },
    {
     "name": "stderr",
     "output_type": "stream",
     "text": [
      "DEPRECATION: textract 1.6.5 has a non-standard dependency specifier extract-msg<=0.29.*. pip 23.3 will enforce this behaviour change. A possible replacement is to upgrade to a newer version of textract or contact the author to suggest that they release a version with a conforming dependency specifiers. Discussion can be found at https://github.com/pypa/pip/issues/12063\n"
     ]
    },
    {
     "name": "stdout",
     "output_type": "stream",
     "text": [
      "\n",
      "Requirement already satisfied: pandas-profiling in c:\\users\\zoyeb\\anaconda3\\lib\\site-packages (3.2.0)\n",
      "Requirement already satisfied: python-dateutil>=2.8.1 in c:\\users\\zoyeb\\anaconda3\\lib\\site-packages (from pandas) (2.8.2)\n",
      "Requirement already satisfied: pytz>=2020.1 in c:\\users\\zoyeb\\anaconda3\\lib\\site-packages (from pandas) (2022.7)\n",
      "Requirement already satisfied: numpy>=1.21.0 in c:\\users\\zoyeb\\anaconda3\\lib\\site-packages (from pandas) (1.24.3)\n",
      "Requirement already satisfied: joblib~=1.1.0 in c:\\users\\zoyeb\\anaconda3\\lib\\site-packages (from pandas-profiling) (1.1.1)\n",
      "Requirement already satisfied: scipy>=1.4.1 in c:\\users\\zoyeb\\anaconda3\\lib\\site-packages (from pandas-profiling) (1.10.1)\n",
      "Requirement already satisfied: matplotlib>=3.2.0 in c:\\users\\zoyeb\\anaconda3\\lib\\site-packages (from pandas-profiling) (3.7.1)\n",
      "Requirement already satisfied: pydantic>=1.8.1 in c:\\users\\zoyeb\\anaconda3\\lib\\site-packages (from pandas-profiling) (2.4.2)\n",
      "Requirement already satisfied: PyYAML>=5.0.0 in c:\\users\\zoyeb\\anaconda3\\lib\\site-packages (from pandas-profiling) (6.0)\n",
      "Requirement already satisfied: jinja2>=2.11.1 in c:\\users\\zoyeb\\anaconda3\\lib\\site-packages (from pandas-profiling) (3.1.2)\n",
      "Requirement already satisfied: markupsafe~=2.1.1 in c:\\users\\zoyeb\\anaconda3\\lib\\site-packages (from pandas-profiling) (2.1.1)\n",
      "Requirement already satisfied: visions[type_image_path]==0.7.4 in c:\\users\\zoyeb\\anaconda3\\lib\\site-packages (from pandas-profiling) (0.7.4)\n",
      "Requirement already satisfied: htmlmin>=0.1.12 in c:\\users\\zoyeb\\anaconda3\\lib\\site-packages (from pandas-profiling) (0.1.12)\n",
      "Requirement already satisfied: missingno>=0.4.2 in c:\\users\\zoyeb\\anaconda3\\lib\\site-packages (from pandas-profiling) (0.5.2)\n",
      "Requirement already satisfied: phik>=0.11.1 in c:\\users\\zoyeb\\anaconda3\\lib\\site-packages (from pandas-profiling) (0.12.3)\n",
      "Requirement already satisfied: tangled-up-in-unicode==0.2.0 in c:\\users\\zoyeb\\anaconda3\\lib\\site-packages (from pandas-profiling) (0.2.0)\n",
      "Requirement already satisfied: requests>=2.24.0 in c:\\users\\zoyeb\\anaconda3\\lib\\site-packages (from pandas-profiling) (2.31.0)\n",
      "Requirement already satisfied: tqdm>=4.48.2 in c:\\users\\zoyeb\\anaconda3\\lib\\site-packages (from pandas-profiling) (4.65.0)\n",
      "Requirement already satisfied: seaborn>=0.10.1 in c:\\users\\zoyeb\\anaconda3\\lib\\site-packages (from pandas-profiling) (0.12.2)\n",
      "Requirement already satisfied: multimethod>=1.4 in c:\\users\\zoyeb\\anaconda3\\lib\\site-packages (from pandas-profiling) (1.10)\n",
      "Requirement already satisfied: attrs>=19.3.0 in c:\\users\\zoyeb\\anaconda3\\lib\\site-packages (from visions[type_image_path]==0.7.4->pandas-profiling) (22.1.0)\n",
      "Requirement already satisfied: networkx>=2.4 in c:\\users\\zoyeb\\anaconda3\\lib\\site-packages (from visions[type_image_path]==0.7.4->pandas-profiling) (3.1)\n",
      "Requirement already satisfied: imagehash in c:\\users\\zoyeb\\anaconda3\\lib\\site-packages (from visions[type_image_path]==0.7.4->pandas-profiling) (4.3.1)\n",
      "Requirement already satisfied: Pillow in c:\\users\\zoyeb\\anaconda3\\lib\\site-packages (from visions[type_image_path]==0.7.4->pandas-profiling) (9.4.0)\n",
      "Requirement already satisfied: contourpy>=1.0.1 in c:\\users\\zoyeb\\anaconda3\\lib\\site-packages (from matplotlib>=3.2.0->pandas-profiling) (1.0.5)\n",
      "Requirement already satisfied: cycler>=0.10 in c:\\users\\zoyeb\\anaconda3\\lib\\site-packages (from matplotlib>=3.2.0->pandas-profiling) (0.11.0)\n",
      "Requirement already satisfied: fonttools>=4.22.0 in c:\\users\\zoyeb\\anaconda3\\lib\\site-packages (from matplotlib>=3.2.0->pandas-profiling) (4.25.0)\n",
      "Requirement already satisfied: kiwisolver>=1.0.1 in c:\\users\\zoyeb\\anaconda3\\lib\\site-packages (from matplotlib>=3.2.0->pandas-profiling) (1.4.4)\n",
      "Requirement already satisfied: packaging>=20.0 in c:\\users\\zoyeb\\anaconda3\\lib\\site-packages (from matplotlib>=3.2.0->pandas-profiling) (23.0)\n",
      "Requirement already satisfied: pyparsing>=2.3.1 in c:\\users\\zoyeb\\anaconda3\\lib\\site-packages (from matplotlib>=3.2.0->pandas-profiling) (3.0.9)\n",
      "Requirement already satisfied: annotated-types>=0.4.0 in c:\\users\\zoyeb\\anaconda3\\lib\\site-packages (from pydantic>=1.8.1->pandas-profiling) (0.6.0)\n",
      "Requirement already satisfied: pydantic-core==2.10.1 in c:\\users\\zoyeb\\anaconda3\\lib\\site-packages (from pydantic>=1.8.1->pandas-profiling) (2.10.1)\n",
      "Requirement already satisfied: typing-extensions>=4.6.1 in c:\\users\\zoyeb\\anaconda3\\lib\\site-packages (from pydantic>=1.8.1->pandas-profiling) (4.7.1)\n",
      "Requirement already satisfied: six>=1.5 in c:\\users\\zoyeb\\anaconda3\\lib\\site-packages (from python-dateutil>=2.8.1->pandas) (1.12.0)\n",
      "Requirement already satisfied: charset-normalizer<4,>=2 in c:\\users\\zoyeb\\anaconda3\\lib\\site-packages (from requests>=2.24.0->pandas-profiling) (2.0.4)\n",
      "Requirement already satisfied: idna<4,>=2.5 in c:\\users\\zoyeb\\anaconda3\\lib\\site-packages (from requests>=2.24.0->pandas-profiling) (3.4)\n",
      "Requirement already satisfied: urllib3<3,>=1.21.1 in c:\\users\\zoyeb\\anaconda3\\lib\\site-packages (from requests>=2.24.0->pandas-profiling) (1.26.16)\n",
      "Requirement already satisfied: certifi>=2017.4.17 in c:\\users\\zoyeb\\anaconda3\\lib\\site-packages (from requests>=2.24.0->pandas-profiling) (2023.7.22)\n",
      "Requirement already satisfied: colorama in c:\\users\\zoyeb\\anaconda3\\lib\\site-packages (from tqdm>=4.48.2->pandas-profiling) (0.4.6)\n",
      "Requirement already satisfied: PyWavelets in c:\\users\\zoyeb\\anaconda3\\lib\\site-packages (from imagehash->visions[type_image_path]==0.7.4->pandas-profiling) (1.4.1)\n"
     ]
    }
   ],
   "source": [
    "!pip install pandas pandas-profiling"
   ]
  },
  {
   "cell_type": "code",
   "execution_count": 2,
   "id": "699af146",
   "metadata": {},
   "outputs": [
    {
     "name": "stderr",
     "output_type": "stream",
     "text": [
      "C:\\Users\\zoyeb\\AppData\\Local\\Temp\\ipykernel_8792\\3347368900.py:2: DeprecationWarning: `import pandas_profiling` is going to be deprecated by April 1st. Please use `import ydata_profiling` instead.\n",
      "  from pandas_profiling import ProfileReport\n"
     ]
    },
    {
     "data": {
      "application/vnd.jupyter.widget-view+json": {
       "model_id": "ab4cbb884c3243ad8e3add8eaa34a97a",
       "version_major": 2,
       "version_minor": 0
      },
      "text/plain": [
       "Summarize dataset:   0%|          | 0/5 [00:00<?, ?it/s]"
      ]
     },
     "metadata": {},
     "output_type": "display_data"
    },
    {
     "data": {
      "application/vnd.jupyter.widget-view+json": {
       "model_id": "e3ce054b9c1046b8838bab78c85cc834",
       "version_major": 2,
       "version_minor": 0
      },
      "text/plain": [
       "Generate report structure:   0%|          | 0/1 [00:00<?, ?it/s]"
      ]
     },
     "metadata": {},
     "output_type": "display_data"
    },
    {
     "data": {
      "application/vnd.jupyter.widget-view+json": {
       "model_id": "df32052e1fc74fc7b59c17ed07c0f1dd",
       "version_major": 2,
       "version_minor": 0
      },
      "text/plain": [
       "Render HTML:   0%|          | 0/1 [00:00<?, ?it/s]"
      ]
     },
     "metadata": {},
     "output_type": "display_data"
    },
    {
     "data": {
      "application/vnd.jupyter.widget-view+json": {
       "model_id": "fc5af888519f495f811a25f4fcf77ef9",
       "version_major": 2,
       "version_minor": 0
      },
      "text/plain": [
       "Export report to file:   0%|          | 0/1 [00:00<?, ?it/s]"
      ]
     },
     "metadata": {},
     "output_type": "display_data"
    }
   ],
   "source": [
    "import pandas as pd\n",
    "from pandas_profiling import ProfileReport \n",
    "\n",
    "df = pd.read_csv(\"goodreads_data.csv\")\n",
    "\n",
    "# Generate a profile report\n",
    "profile = ProfileReport(df)\n",
    "\n",
    "# Save the report as an HTML file\n",
    "profile.to_file(\"nlp_project_data_profile_report.html\")"
   ]
  },
  {
   "cell_type": "code",
   "execution_count": null,
   "id": "6427575a",
   "metadata": {},
   "outputs": [],
   "source": []
  }
 ],
 "metadata": {
  "kernelspec": {
   "display_name": "Python 3 (ipykernel)",
   "language": "python",
   "name": "python3"
  },
  "language_info": {
   "codemirror_mode": {
    "name": "ipython",
    "version": 3
   },
   "file_extension": ".py",
   "mimetype": "text/x-python",
   "name": "python",
   "nbconvert_exporter": "python",
   "pygments_lexer": "ipython3",
   "version": "3.11.4"
  }
 },
 "nbformat": 4,
 "nbformat_minor": 5
}
